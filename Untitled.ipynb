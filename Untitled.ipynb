{
 "cells": [
  {
   "cell_type": "code",
   "execution_count": 61,
   "id": "c0d0c33d-b638-4567-9cdf-729cd09c6fd4",
   "metadata": {},
   "outputs": [
    {
     "data": {
      "text/html": [
       "<div>\n",
       "<style scoped>\n",
       "    .dataframe tbody tr th:only-of-type {\n",
       "        vertical-align: middle;\n",
       "    }\n",
       "\n",
       "    .dataframe tbody tr th {\n",
       "        vertical-align: top;\n",
       "    }\n",
       "\n",
       "    .dataframe thead th {\n",
       "        text-align: right;\n",
       "    }\n",
       "</style>\n",
       "<table border=\"1\" class=\"dataframe\">\n",
       "  <thead>\n",
       "    <tr style=\"text-align: right;\">\n",
       "      <th></th>\n",
       "      <th>District</th>\n",
       "      <th>Code</th>\n",
       "      <th>Estimate</th>\n",
       "      <th>Prevalence_%</th>\n",
       "      <th>Prevalence_LCL</th>\n",
       "      <th>Prevalence_UCL</th>\n",
       "      <th>NoPLHIV</th>\n",
       "      <th>NoPLHIV_LCL</th>\n",
       "      <th>NoPLHIV_UCL</th>\n",
       "    </tr>\n",
       "  </thead>\n",
       "  <tbody>\n",
       "    <tr>\n",
       "      <th>0</th>\n",
       "      <td>Buffalo City</td>\n",
       "      <td>BUF</td>\n",
       "      <td>Survey</td>\n",
       "      <td>13.600000</td>\n",
       "      <td>10.268000</td>\n",
       "      <td>16.932000</td>\n",
       "      <td>102437</td>\n",
       "      <td>77340</td>\n",
       "      <td>127534</td>\n",
       "    </tr>\n",
       "    <tr>\n",
       "      <th>1</th>\n",
       "      <td>Buffalo City</td>\n",
       "      <td>BUF</td>\n",
       "      <td>Fay-Heriott</td>\n",
       "      <td>13.501283</td>\n",
       "      <td>11.031605</td>\n",
       "      <td>16.421802</td>\n",
       "      <td>101693</td>\n",
       "      <td>83092</td>\n",
       "      <td>123691</td>\n",
       "    </tr>\n",
       "    <tr>\n",
       "      <th>2</th>\n",
       "      <td>City of Cape Town</td>\n",
       "      <td>CPT</td>\n",
       "      <td>Survey</td>\n",
       "      <td>5.200000</td>\n",
       "      <td>3.044000</td>\n",
       "      <td>7.356000</td>\n",
       "      <td>200751</td>\n",
       "      <td>117517</td>\n",
       "      <td>283985</td>\n",
       "    </tr>\n",
       "    <tr>\n",
       "      <th>3</th>\n",
       "      <td>City of Cape Town</td>\n",
       "      <td>CPT</td>\n",
       "      <td>Fay-Heriott</td>\n",
       "      <td>6.020043</td>\n",
       "      <td>4.335072</td>\n",
       "      <td>8.303091</td>\n",
       "      <td>232409</td>\n",
       "      <td>167359</td>\n",
       "      <td>320548</td>\n",
       "    </tr>\n",
       "    <tr>\n",
       "      <th>4</th>\n",
       "      <td>West Coast</td>\n",
       "      <td>DC1</td>\n",
       "      <td>Survey</td>\n",
       "      <td>2.700000</td>\n",
       "      <td>0.000000</td>\n",
       "      <td>5.444000</td>\n",
       "      <td>11302</td>\n",
       "      <td>0</td>\n",
       "      <td>22789</td>\n",
       "    </tr>\n",
       "    <tr>\n",
       "      <th>...</th>\n",
       "      <td>...</td>\n",
       "      <td>...</td>\n",
       "      <td>...</td>\n",
       "      <td>...</td>\n",
       "      <td>...</td>\n",
       "      <td>...</td>\n",
       "      <td>...</td>\n",
       "      <td>...</td>\n",
       "      <td>...</td>\n",
       "    </tr>\n",
       "    <tr>\n",
       "      <th>99</th>\n",
       "      <td>Mangaung</td>\n",
       "      <td>MAN</td>\n",
       "      <td>Fay-Heriott</td>\n",
       "      <td>9.147425</td>\n",
       "      <td>6.725917</td>\n",
       "      <td>12.325536</td>\n",
       "      <td>101520</td>\n",
       "      <td>74646</td>\n",
       "      <td>136792</td>\n",
       "    </tr>\n",
       "    <tr>\n",
       "      <th>100</th>\n",
       "      <td>Nelson Mandela Bay Metro</td>\n",
       "      <td>NMA</td>\n",
       "      <td>Survey</td>\n",
       "      <td>8.300000</td>\n",
       "      <td>3.400000</td>\n",
       "      <td>13.200000</td>\n",
       "      <td>97459</td>\n",
       "      <td>39923</td>\n",
       "      <td>154995</td>\n",
       "    </tr>\n",
       "    <tr>\n",
       "      <th>101</th>\n",
       "      <td>Nelson Mandela Bay Metro</td>\n",
       "      <td>NMA</td>\n",
       "      <td>Fay-Heriott</td>\n",
       "      <td>9.054060</td>\n",
       "      <td>6.128703</td>\n",
       "      <td>13.179704</td>\n",
       "      <td>106313</td>\n",
       "      <td>71964</td>\n",
       "      <td>154757</td>\n",
       "    </tr>\n",
       "    <tr>\n",
       "      <th>102</th>\n",
       "      <td>City of Tshwane</td>\n",
       "      <td>TSH</td>\n",
       "      <td>Survey</td>\n",
       "      <td>11.700000</td>\n",
       "      <td>7.388000</td>\n",
       "      <td>16.012000</td>\n",
       "      <td>361450</td>\n",
       "      <td>228239</td>\n",
       "      <td>494661</td>\n",
       "    </tr>\n",
       "    <tr>\n",
       "      <th>103</th>\n",
       "      <td>City of Tshwane</td>\n",
       "      <td>TSH</td>\n",
       "      <td>Fay-Heriott</td>\n",
       "      <td>11.024858</td>\n",
       "      <td>8.255934</td>\n",
       "      <td>14.574909</td>\n",
       "      <td>340593</td>\n",
       "      <td>255052</td>\n",
       "      <td>450265</td>\n",
       "    </tr>\n",
       "  </tbody>\n",
       "</table>\n",
       "<p>104 rows × 9 columns</p>\n",
       "</div>"
      ],
      "text/plain": [
       "                     District Code     Estimate  Prevalence_%  Prevalence_LCL  \\\n",
       "0                Buffalo City  BUF       Survey     13.600000       10.268000   \n",
       "1                Buffalo City  BUF  Fay-Heriott     13.501283       11.031605   \n",
       "2           City of Cape Town  CPT       Survey      5.200000        3.044000   \n",
       "3           City of Cape Town  CPT  Fay-Heriott      6.020043        4.335072   \n",
       "4                  West Coast  DC1       Survey      2.700000        0.000000   \n",
       "..                        ...  ...          ...           ...             ...   \n",
       "99                   Mangaung  MAN  Fay-Heriott      9.147425        6.725917   \n",
       "100  Nelson Mandela Bay Metro  NMA       Survey      8.300000        3.400000   \n",
       "101  Nelson Mandela Bay Metro  NMA  Fay-Heriott      9.054060        6.128703   \n",
       "102           City of Tshwane  TSH       Survey     11.700000        7.388000   \n",
       "103           City of Tshwane  TSH  Fay-Heriott     11.024858        8.255934   \n",
       "\n",
       "     Prevalence_UCL  NoPLHIV  NoPLHIV_LCL  NoPLHIV_UCL  \n",
       "0         16.932000   102437        77340       127534  \n",
       "1         16.421802   101693        83092       123691  \n",
       "2          7.356000   200751       117517       283985  \n",
       "3          8.303091   232409       167359       320548  \n",
       "4          5.444000    11302            0        22789  \n",
       "..              ...      ...          ...          ...  \n",
       "99        12.325536   101520        74646       136792  \n",
       "100       13.200000    97459        39923       154995  \n",
       "101       13.179704   106313        71964       154757  \n",
       "102       16.012000   361450       228239       494661  \n",
       "103       14.574909   340593       255052       450265  \n",
       "\n",
       "[104 rows x 9 columns]"
      ]
     },
     "execution_count": 61,
     "metadata": {},
     "output_type": "execute_result"
    }
   ],
   "source": [
    "#1 Download the dataset here.\n",
    "from pandas import read_excel\n",
    "import pandas as pd\n",
    "import numpy as np\n",
    "\n",
    "my_sheet = 'estimates' # Sheet Name\n",
    "file_name = '/users//shelbylabuschagne//PalindromeData//Palindrome.xlsx' # excel file\n",
    "df = read_excel(file_name, sheet_name = my_sheet, skiprows=1)\n",
    "df"
   ]
  },
  {
   "cell_type": "code",
   "execution_count": 16,
   "id": "6eed0bd4-39f2-4b69-a5be-b6cbfac8a8c9",
   "metadata": {},
   "outputs": [
    {
     "data": {
      "text/plain": [
       "12887080"
      ]
     },
     "execution_count": 16,
     "metadata": {},
     "output_type": "execute_result"
    }
   ],
   "source": [
    "#2a\n",
    "#What is the total number of people living with HIV (NoPLHIV) in the listed districts according to the Survey estimate?\n",
    "df[\"NoPLHIV\"].sum()"
   ]
  },
  {
   "cell_type": "code",
   "execution_count": 21,
   "id": "353ee86c-96d8-41c9-bffb-5cd83daab315",
   "metadata": {},
   "outputs": [
    {
     "name": "stdout",
     "output_type": "stream",
     "text": [
      "Buffalo City 204130\n",
      "City of Cape Town 433160\n",
      "West Coast 28416\n",
      "Cacadu 75461\n",
      "Amatole 205667\n",
      "Chris Hani 227939\n",
      "Joe Gqabi 78384\n",
      "O.R. Tambo 327734\n",
      "Xhariep 24495\n",
      "Lejweleputswa 231434\n",
      "Thabo Mofutsanyana 228455\n",
      "Cape Winelands 75359\n",
      "Fezile Dabi 96317\n",
      "Ugu 285293\n",
      "uMgungundlovu 430979\n",
      "uThukela 233673\n",
      "uMzinyathi 186648\n",
      "Amajuba 163220\n",
      "Zululand 339401\n",
      "uMkhanyakude 177393\n",
      "uThungulu 322523\n",
      "iLembe 172421\n",
      "Overberg 37184\n",
      "Gert Sibande 415124\n",
      "Nkangala 258084\n",
      "Ehlanzeni 552283\n",
      "Mopani 175125\n",
      "Vhembe 172966\n",
      "Capricorn 239482\n",
      "Waterberg 145133\n",
      "Bojanala Platinum 425631\n",
      "Ngaka Modiri Molema 227882\n",
      "Dr Ruth Segomotsi Mompati 103586\n",
      "Eden 56342\n",
      "Dr Kenneth Kaunda 202515\n",
      "Sedibeng 354118\n",
      "Sisonke 190498\n",
      "Alfred Nzo 209508\n",
      "John Taolo Gaetsewe 38769\n",
      "Sekhukhune 175935\n",
      "West Rand 155398\n",
      "Central Karoo 26398\n",
      "Namakwa 5193\n",
      "Pixley ka Seme 20371\n",
      "Siyanda 28232\n",
      "Frances Baard 88205\n",
      "Ekurhuleni 904049\n",
      "eThekwini 1005928\n",
      "City of Johannesburg 1029628\n",
      "Mangaung 189196\n",
      "Nelson Mandela Bay Metro 203772\n",
      "City of Tshwane 702043\n"
     ]
    }
   ],
   "source": [
    "#2a\n",
    "#What is the total number of people living with HIV (NoPLHIV) in the listed districts according to the Survey estimate?\n",
    "dis=(df['District'].unique())\n",
    "\n",
    "for dists in dis:\n",
    "    total = df.loc[df['District'] == dists, 'NoPLHIV'].sum()\n",
    "    print(dists+\" \"+str(total))"
   ]
  },
  {
   "cell_type": "code",
   "execution_count": 23,
   "id": "707655ec-ee6a-4847-b143-8fd8ddcc6518",
   "metadata": {},
   "outputs": [
    {
     "name": "stdout",
     "output_type": "stream",
     "text": [
      "Xhariep 12247.5\n"
     ]
    }
   ],
   "source": [
    "#2b What is the average NoPLHIV of the two estimates used for “Xhariep”?\n",
    "total = df.loc[df['District'] == \"Xhariep\", 'NoPLHIV'].mean()\n",
    "print(\"Xhariep\"+\" \"+str(total))"
   ]
  },
  {
   "cell_type": "code",
   "execution_count": 64,
   "id": "fe05c65b-e9f5-418d-8d59-069bfabc1bcb",
   "metadata": {},
   "outputs": [
    {
     "name": "stdout",
     "output_type": "stream",
     "text": [
      "     NoPLHIV  Prevalence_%\n",
      "0     102437     13.600000\n",
      "1     101693     13.501283\n",
      "2     200751      5.200000\n",
      "3     232409      6.020043\n",
      "4      11302      2.700000\n",
      "..       ...           ...\n",
      "99    101520      9.147425\n",
      "100    97459      8.300000\n",
      "101   106313      9.054060\n",
      "102   361450     11.700000\n",
      "103   340593     11.024858\n",
      "\n",
      "[104 rows x 2 columns]\n"
     ]
    }
   ],
   "source": [
    "#2c Add a column and populate it with the number of people not living with HIV for each row. \n",
    "#df.insert(9, \"Not HIV\", True)\n",
    "\n",
    "#noPLHIV/Prevalence\n",
    "\n",
    "# select two columns\n",
    "cols=(df[['NoPLHIV', 'Prevalence_%']])\n",
    "\n",
    "for i in cols:\n",
    "    \n",
    "    \n",
    "\n",
    "\n",
    "\n",
    "\n"
   ]
  },
  {
   "cell_type": "code",
   "execution_count": 40,
   "id": "ed3ac964-73a8-4521-8868-eb81b7d238f4",
   "metadata": {},
   "outputs": [
    {
     "data": {
      "text/plain": [
       "2572733"
      ]
     },
     "execution_count": 40,
     "metadata": {},
     "output_type": "execute_result"
    }
   ],
   "source": [
    "# 2d What is the total NoPLHIV in all the cities (districts with “city” or “metro” in the name)? \n",
    "contain_values1 = df[df['District'].str.contains('City')]\n",
    "contain_values2= df[df['District'].str.contains('Metro')]\n",
    "tot = contain_values2.append(contain_values1)\n",
    "tot[\"NoPLHIV\"].sum()"
   ]
  },
  {
   "cell_type": "code",
   "execution_count": 25,
   "id": "8b6a5094-8873-41be-bffd-6d11e449a8aa",
   "metadata": {},
   "outputs": [
    {
     "data": {
      "text/plain": [
       "Index(['District', 'Code', 'Estimate', 'Prevalence', 'PrevalenceLCL',\n",
       "       'PrevalenceUCL', 'NoPLHIV', 'NoPLHIVLCL', 'NoPLHIVUCL'],\n",
       "      dtype='object')"
      ]
     },
     "execution_count": 25,
     "metadata": {},
     "output_type": "execute_result"
    }
   ],
   "source": [
    "#3 Remove all the special/non-alphabetic characters from the dataframe column names. Print the resultant field names output\n",
    "df.columns = df.columns.str.replace('[_,%]', '')\n",
    "df.columns"
   ]
  },
  {
   "cell_type": "code",
   "execution_count": 89,
   "id": "e5a87f1e-1cf4-4cb1-9c3b-d55f45f1e610",
   "metadata": {},
   "outputs": [
    {
     "data": {
      "image/png": "[encoded data removed]",
      "text/plain": [
       "<Figure size 432x288 with 1 Axes>"
      ]
     },
     "metadata": {
      "needs_background": "light"
     },
     "output_type": "display_data"
    }
   ],
   "source": [
    "#4 Using matplotlib, plot each Prevalence confidence interval (Prevalence_UCL and Prevalence_LCL) \n",
    "#for Districts that end in “i”; according to Fay-Herriott estimates on 1 graph. \n",
    "\n",
    "import matplotlib.pyplot as plt \n",
    "contain_values1 = df[df['District'].str.endswith('i')]\n",
    "contain_values1.loc[contain_values1['Estimate'] == \"Fay-Heriott\"]\n",
    "\n",
    "first = contain_values1[\"Prevalence_UCL\"]\n",
    "second = contain_values1[\"Prevalence_LCL\"]\n",
    "plt.plot(first, 'g--', second, 'r--')\n",
    "plt.legend(['Prevalence_UCL', 'Prevalence_LCL'], loc='upper right')\n",
    "plt.show()"
   ]
  }
 ],
 "metadata": {
  "kernelspec": {
   "display_name": "Python 3",
   "language": "python",
   "name": "python3"
  },
  "language_info": {
   "codemirror_mode": {
    "name": "ipython",
    "version": 3
   },
   "file_extension": ".py",
   "mimetype": "text/x-python",
   "name": "python",
   "nbconvert_exporter": "python",
   "pygments_lexer": "ipython3",
   "version": "3.8.3"
  }
 },
 "nbformat": 4,
 "nbformat_minor": 5
}
